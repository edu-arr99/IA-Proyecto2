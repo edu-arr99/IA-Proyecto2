{
  "cells": [
    {
      "cell_type": "code",
      "execution_count": null,
      "metadata": {
        "id": "4OIwr5Ei3vC8"
      },
      "outputs": [],
      "source": [
        "from sklearn.preprocessing import MinMaxScaler\n",
        "from sklearn.neighbors import KDTree\n",
        "from sklearn.datasets import load_iris\n",
        "from sklearn import neighbors\n",
        "from sklearn.cluster import KMeans\n",
        "from scipy import stats\n",
        "import numpy as np\n",
        "import matplotlib.pyplot as plt\n",
        "import pandas as pd\n",
        "\n",
        "import math"
      ]
    },
    {
      "cell_type": "code",
      "execution_count": null,
      "metadata": {
        "id": "OGN0MC91385o"
      },
      "outputs": [],
      "source": [
        "# Se carga el dataset\n",
        "\n",
        "iris = load_iris()\n",
        "\n",
        "X = iris.data[:,2:]\n",
        "Y = iris.target.reshape(-1, 1)\n",
        "\n",
        "scaler = MinMaxScaler()\n",
        "X = scaler.fit_transform(X)\n",
        "\n"
      ]
    },
    {
      "cell_type": "code",
      "execution_count": null,
      "metadata": {
        "id": "Zg_jnfJg4dWn"
      },
      "outputs": [],
      "source": [
        "# Modelo\n",
        "def gauss(X, clusters=3):\n",
        "  # KMeans\n",
        "  kmeans = KMeans(n_clusters=clusters, n_init=\"auto\").fit(X)\n",
        "  labels = kmeans.labels_\n",
        "  centers = kmeans.cluster_centers_\n",
        "  covs = []\n",
        "  for i in range(clusters):\n",
        "    covs.append(np.cov(X[labels==i].T))\n",
        "\n",
        "  covs = np.array(covs)\n",
        "\n",
        "  pi = np.array([(labels==i).sum() for i in range(clusters)]) / len(labels)\n",
        "\n",
        "  return centers, covs, pi\n",
        "\n",
        "\n",
        "def EM(X, centers, covs, pi):\n",
        "  for epoch in range(100): # Se eligen 100 epochs\n",
        "    if epoch % 50 == 0:\n",
        "      print(\"EPOCH\", epoch)\n",
        "\n",
        "\n",
        "  # Cálculo de likelihood\n",
        "  likelihood = np.zeros([X.shape[0], len(pi)])\n",
        "\n",
        "  for i in range(len(pi)):\n",
        "    multi_normal = stats.multivariate_normal(centers[i], covs[i])\n",
        "    for j in range(X.shape[0]):\n",
        "      likelihood[j][i] = multi_normal.pdf(X[j])\n",
        "  \n",
        "  for i in range(len(pi)):\n",
        "    likelihood[:,i] *= pi[i]\n",
        "\n",
        "  y = likelihood/likelihood.sum(1)[:,None]\n",
        "\n",
        "  N = y.sum(0)\n",
        "  for i in range(len(pi)):\n",
        "    y_col = y[:, i].reshape(-1,1)\n",
        "    centers[i] = np.sum(y_col*X, 0) / N[i]\n",
        "    dif = X - centers[i]\n",
        "    covs[i] = np.dot((y_col * dif).T, dif) \n",
        "    covs[i] /= N[i]\n",
        "\n",
        "  pi = N/X.shape[0] \n",
        "\n",
        "  return centers, covs, pi, y\n",
        "\n",
        "  "
      ]
    },
    {
      "cell_type": "code",
      "execution_count": null,
      "metadata": {
        "colab": {
          "base_uri": "https://localhost:8080/"
        },
        "id": "5cbaLNvl99Ku",
        "outputId": "2b3992a5-d02b-44ec-9f5d-6f2f0bed9f11"
      },
      "outputs": [
        {
          "name": "stdout",
          "output_type": "stream",
          "text": [
            "EPOCH 0\n",
            "EPOCH 50\n",
            "[1 1 1 1 1 1 1 1 1 1 1 1 1 1 1 1 1 1 1 1 1 1 1 1 1 1 1 1 1 1 1 1 1 1 1 1 1\n",
            " 1 1 1 1 1 1 1 1 1 1 1 1 1 0 0 0 0 0 0 0 0 0 0 0 0 0 0 0 0 0 0 0 0 2 0 0 0\n",
            " 0 0 0 2 0 0 0 0 0 0 0 0 0 0 0 0 0 0 0 0 0 0 0 0 0 0 2 2 2 2 2 2 2 2 2 2 2\n",
            " 2 2 2 2 2 2 2 2 0 2 2 2 2 2 2 2 2 2 2 2 2 2 0 2 2 2 2 2 2 2 2 2 2 2 2 2 2\n",
            " 2 2]\n",
            "[0 0 0 0 0 0 0 0 0 0 0 0 0 0 0 0 0 0 0 0 0 0 0 0 0 0 0 0 0 0 0 0 0 0 0 0 0\n",
            " 0 0 0 0 0 0 0 0 0 0 0 0 0 1 1 1 1 1 1 1 1 1 1 1 1 1 1 1 1 1 1 1 1 1 1 1 1\n",
            " 1 1 1 1 1 1 1 1 1 1 1 1 1 1 1 1 1 1 1 1 1 1 1 1 1 1 2 2 2 2 2 2 2 2 2 2 2\n",
            " 2 2 2 2 2 2 2 2 2 2 2 2 2 2 2 2 2 2 2 2 2 2 2 2 2 2 2 2 2 2 2 2 2 2 2 2 2\n",
            " 2 2]\n"
          ]
        }
      ],
      "source": [
        "centers, covs, pi = gauss(X)\n",
        "centers, covs, pi, y = EM(X, centers, covs, pi)\n",
        "\n",
        "labels = np.argmax(y, 1)\n",
        "\n",
        "print(labels.reshape(-1))\n",
        "print(Y.reshape(-1))"
      ]
    }
  ],
  "metadata": {
    "colab": {
      "provenance": []
    },
    "kernelspec": {
      "display_name": "Python 3",
      "name": "python3"
    },
    "language_info": {
      "name": "python"
    }
  },
  "nbformat": 4,
  "nbformat_minor": 0
}
